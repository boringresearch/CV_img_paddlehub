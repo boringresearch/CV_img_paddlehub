{
  "nbformat": 4,
  "nbformat_minor": 0,
  "metadata": {
    "colab": {
      "provenance": [],
      "authorship_tag": "ABX9TyNWDH5ZUiG9N90WVCYpL310",
      "include_colab_link": true
    },
    "kernelspec": {
      "name": "python3",
      "display_name": "Python 3"
    },
    "language_info": {
      "name": "python"
    },
    "accelerator": "TPU",
    "gpuClass": "standard"
  },
  "cells": [
    {
      "cell_type": "markdown",
      "metadata": {
        "id": "view-in-github",
        "colab_type": "text"
      },
      "source": [
        "<a href=\"https://colab.research.google.com/github/boringresearch/CV_img_paddlehub/blob/main/logo_generator.ipynb\" target=\"_parent\"><img src=\"https://colab.research.google.com/assets/colab-badge.svg\" alt=\"Open In Colab\"/></a>"
      ]
    },
    {
      "cell_type": "code",
      "execution_count": null,
      "metadata": {
        "id": "e5OD5ymJfToe"
      },
      "outputs": [],
      "source": [
        "!pip install --upgrade paddlehub paddlepaddle-gpu -qU"
      ]
    },
    {
      "cell_type": "code",
      "source": [
        "import paddlehub as hub\n",
        "module = hub.Module(name='ernie_vilg')\n",
        "results = module.generate_image(text_prompts=[\"可爱的小仓鼠程序员研究者卡通拿了一杯可乐抽着雪茄敲击着键盘\"])"
      ],
      "metadata": {
        "id": "64kBmh3AfYta"
      },
      "execution_count": null,
      "outputs": []
    },
    {
      "cell_type": "code",
      "source": [
        "import os\n",
        "import matplotlib.image as mpimg\n",
        "from PIL import Image\n",
        "import matplotlib.pyplot as plt\n",
        "import numpy as np\n",
        "import matplotlib as mpl\n",
        "mpl.rcParams['font.sans-serif'] = ['SimHei']  # 中文字体支持\n",
        "\n",
        "# 使用pillow库读取图片\n",
        "for i in range(0,5):\n",
        "  img = Image.open(\"ernievilg_output/可爱的小仓鼠程序员研究者卡通拿了一杯可乐抽着雪茄敲击着键盘_\"+str(i)+\".png\")\n",
        "  plt.figure()\n",
        "  plt.imshow(img)"
      ],
      "metadata": {
        "id": "1cPitLdSfbkr"
      },
      "execution_count": null,
      "outputs": []
    }
  ]
}